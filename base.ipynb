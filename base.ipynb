{
 "cells": [
  {
   "cell_type": "code",
   "execution_count": null,
   "id": "d4003b24-039f-4de0-9171-749436b666c3",
   "metadata": {},
   "outputs": [],
   "source": [
    "# Import the required libraries and dependencies.\n",
    "\n"
   ]
  },
  {
   "cell_type": "code",
   "execution_count": null,
   "id": "7dfb5703-6815-46bd-921d-f6a7da80f338",
   "metadata": {},
   "outputs": [],
   "source": [
    "# Collect the Data"
   ]
  },
  {
   "cell_type": "code",
   "execution_count": null,
   "id": "0cf82075-6ef6-43cc-a6ff-5112fcd72caa",
   "metadata": {},
   "outputs": [],
   "source": [
    "# API data crpyto historical pricing\n"
   ]
  },
  {
   "cell_type": "code",
   "execution_count": null,
   "id": "ff9e5c6b-0b8e-45fd-a7aa-fa973934aa12",
   "metadata": {},
   "outputs": [],
   "source": [
    "# Import into a csv file and create a DataFrame\n"
   ]
  },
  {
   "cell_type": "code",
   "execution_count": null,
   "id": "5fe34e84-cbab-4548-baa3-3405051fd33c",
   "metadata": {},
   "outputs": [],
   "source": [
    "# Use head function to confirm that Pandas imported the data\n"
   ]
  },
  {
   "cell_type": "code",
   "execution_count": null,
   "id": "a3205561-5744-4ca2-97e1-bdc0f6277e3e",
   "metadata": {},
   "outputs": [],
   "source": [
    "# Prepare the Data"
   ]
  },
  {
   "cell_type": "code",
   "execution_count": null,
   "id": "3cb48429-1914-4721-a1d7-71d2662fee1c",
   "metadata": {},
   "outputs": [],
   "source": [
    "# DataFrame, replace or drop all NaN, or missing, values in the DataFrame."
   ]
  },
  {
   "cell_type": "code",
   "execution_count": null,
   "id": "6860c25d-a515-4458-9aef-7e293ef13e49",
   "metadata": {},
   "outputs": [],
   "source": [
    "# Use the str.replace function to remove the dollar signs ($) from the values in the Close column."
   ]
  },
  {
   "cell_type": "code",
   "execution_count": null,
   "id": "1d823abc-4348-475c-975b-227a5c28c89a",
   "metadata": {},
   "outputs": [],
   "source": [
    "# "
   ]
  }
 ],
 "metadata": {
  "kernelspec": {
   "display_name": "Python 3 (ipykernel)",
   "language": "python",
   "name": "python3"
  },
  "language_info": {
   "codemirror_mode": {
    "name": "ipython",
    "version": 3
   },
   "file_extension": ".py",
   "mimetype": "text/x-python",
   "name": "python",
   "nbconvert_exporter": "python",
   "pygments_lexer": "ipython3",
   "version": "3.7.13"
  }
 },
 "nbformat": 4,
 "nbformat_minor": 5
}
